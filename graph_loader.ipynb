{
 "cells": [
  {
   "cell_type": "code",
   "execution_count": 1,
   "id": "2aae4965-c8b8-4462-bedd-d58d8e09ad53",
   "metadata": {},
   "outputs": [],
   "source": [
    "from langchain.schema.graph_document import Node, Relationship, GraphDocument\n",
    "from langchain.schema import Document"
   ]
  },
  {
   "cell_type": "code",
   "execution_count": 2,
   "id": "dffb5e8f-77c5-4ac5-9410-024e21e3fbbc",
   "metadata": {},
   "outputs": [],
   "source": [
    "nodes = [\n",
    "    Node(id=\"Tomaz\", type=\"Person\", properties={\"age\": 34}),\n",
    "    Node(id=\"Neo4j\", type=\"Organization\")\n",
    "]"
   ]
  },
  {
   "cell_type": "code",
   "execution_count": 3,
   "id": "36574b43-4455-4b2c-a0e0-529be0da8693",
   "metadata": {},
   "outputs": [],
   "source": [
    "relationships = [\n",
    "    Relationship(source=\"Tomaz\", target=\"Neo4j\", type=\"CONTRACTOR\", properties={\"since\":\"2016\"})\n",
    "]"
   ]
  },
  {
   "cell_type": "code",
   "execution_count": 4,
   "id": "d6f59475-9c53-4670-ad8b-329e0d8d69d2",
   "metadata": {},
   "outputs": [],
   "source": [
    "doc = GraphDocument(\n",
    "    nodes=nodes,\n",
    "    relationships=relationships,\n",
    "    source=Document(page_content=\"Foo\")\n",
    ")"
   ]
  },
  {
   "cell_type": "code",
   "execution_count": 5,
   "id": "0cb84e5f-1330-4407-9e31-0c368853838f",
   "metadata": {},
   "outputs": [],
   "source": [
    "from langchain.graphs import Neo4jGraph\n",
    "\n",
    "url=\"bolt://localhost:7687\"\n",
    "username=\"neo4j\"\n",
    "password=\"pleaseletmein\"\n",
    "\n",
    "graph = Neo4jGraph(\n",
    "    url=url,\n",
    "    username=username, \n",
    "    password=password\n",
    ")"
   ]
  },
  {
   "cell_type": "code",
   "execution_count": 6,
   "id": "fa32e244-a23a-4bfd-832a-72af133ff8f3",
   "metadata": {},
   "outputs": [],
   "source": [
    "graph.add_graph_documents([doc])"
   ]
  },
  {
   "cell_type": "code",
   "execution_count": null,
   "id": "0b910475-b5f1-4d44-8f4e-5c619cd9608f",
   "metadata": {},
   "outputs": [],
   "source": []
  }
 ],
 "metadata": {
  "kernelspec": {
   "display_name": "Python 3 (ipykernel)",
   "language": "python",
   "name": "python3"
  },
  "language_info": {
   "codemirror_mode": {
    "name": "ipython",
    "version": 3
   },
   "file_extension": ".py",
   "mimetype": "text/x-python",
   "name": "python",
   "nbconvert_exporter": "python",
   "pygments_lexer": "ipython3",
   "version": "3.8.8"
  }
 },
 "nbformat": 4,
 "nbformat_minor": 5
}
